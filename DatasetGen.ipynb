{
  "nbformat": 4,
  "nbformat_minor": 0,
  "metadata": {
    "colab": {
      "provenance": []
    },
    "kernelspec": {
      "name": "python3",
      "display_name": "Python 3"
    },
    "language_info": {
      "name": "python"
    }
  },
  "cells": [
    {
      "cell_type": "code",
      "execution_count": 1,
      "metadata": {
        "colab": {
          "base_uri": "https://localhost:8080/"
        },
        "id": "dAa57InTWJq1",
        "outputId": "3855077a-7395-439e-ac1b-3079164e2e65"
      },
      "outputs": [
        {
          "output_type": "stream",
          "name": "stdout",
          "text": [
            "✅ Dataset generated and saved as 'marketing_touchpoints.csv'\n",
            "  CustomerID  Touchpoint         Channel            Timestamp  Spend  \\\n",
            "0       C001           1       Blog Post  2025-08-09 00:00:00  20.89   \n",
            "1       C001           2       Blog Post  2025-08-10 00:00:00  38.15   \n",
            "2       C001           3           Email  2025-08-12 00:00:00  16.83   \n",
            "3       C002           1       Blog Post  2025-08-06 00:00:00  15.56   \n",
            "4       C002           2  Organic Search  2025-08-09 00:00:00  22.18   \n",
            "5       C002           3      Google Ads  2025-09-19 00:00:00  68.71   \n",
            "6       C003           1           Email  2025-08-15 00:00:00  18.94   \n",
            "7       C003           2    Facebook Ads  2025-08-16 00:00:00  27.07   \n",
            "8       C003           3  Organic Search  2025-09-06 00:00:00  16.93   \n",
            "9       C003           4         YouTube  2025-09-19 00:00:00  70.40   \n",
            "\n",
            "   ConversionFlag     Revenue  \n",
            "0               0    0.000000  \n",
            "1               0    0.000000  \n",
            "2               0    0.000000  \n",
            "3               0    0.000000  \n",
            "4               0    0.000000  \n",
            "5               0    0.000000  \n",
            "6               0    0.000000  \n",
            "7               0    0.000000  \n",
            "8               0    0.000000  \n",
            "9               1  580.607503  \n"
          ]
        }
      ],
      "source": [
        "import pandas as pd\n",
        "import numpy as np\n",
        "import random\n",
        "from datetime import datetime, timedelta\n",
        "\n",
        "# -------------------------------\n",
        "# PARAMETERS\n",
        "# -------------------------------\n",
        "num_customers = 200\n",
        "max_touches_per_customer = 5\n",
        "start_date = datetime(2025, 8, 1)\n",
        "end_date = datetime(2025, 9, 30)\n",
        "\n",
        "channels = [\"Facebook Ads\", \"Google Ads\", \"Email\", \"Instagram\", \"Blog Post\", \"Organic Search\", \"YouTube\"]\n",
        "conversion_rate = 0.45  # 45% of customers eventually convert\n",
        "\n",
        "# -------------------------------\n",
        "# GENERATE DATA\n",
        "# -------------------------------\n",
        "records = []\n",
        "\n",
        "for cid in range(1, num_customers + 1):\n",
        "    customer_id = f\"C{cid:03d}\"\n",
        "    num_touches = random.randint(2, max_touches_per_customer)\n",
        "    touch_dates = sorted([start_date + timedelta(days=random.randint(0, (end_date - start_date).days))\n",
        "                          for _ in range(num_touches)])\n",
        "\n",
        "    channels_used = random.choices(channels, k=num_touches)\n",
        "\n",
        "    # Assume each touch has some ad spend (for ROI calc later)\n",
        "    spends = np.random.uniform(10, 80, size=num_touches)\n",
        "\n",
        "    # Mark the final conversion (some customers won't convert)\n",
        "    converted = np.random.rand() < conversion_rate\n",
        "    for i in range(num_touches):\n",
        "        record = {\n",
        "            \"CustomerID\": customer_id,\n",
        "            \"Touchpoint\": i + 1,\n",
        "            \"Channel\": channels_used[i],\n",
        "            \"Timestamp\": touch_dates[i].strftime(\"%Y-%m-%d %H:%M:%S\"),\n",
        "            \"Spend\": round(spends[i], 2),\n",
        "            \"ConversionFlag\": 1 if (converted and i == num_touches - 1) else 0\n",
        "        }\n",
        "        records.append(record)\n",
        "\n",
        "# Convert to DataFrame\n",
        "df = pd.DataFrame(records)\n",
        "\n",
        "# Assign random revenue only to converted customers\n",
        "df[\"Revenue\"] = np.where(df[\"ConversionFlag\"] == 1, np.random.uniform(200, 1000, len(df)), 0)\n",
        "\n",
        "# -------------------------------\n",
        "# FINAL TOUCHES\n",
        "# -------------------------------\n",
        "df = df.sort_values([\"CustomerID\", \"Timestamp\"]).reset_index(drop=True)\n",
        "\n",
        "# Save to CSV\n",
        "df.to_csv(\"marketing_touchpoints.csv\", index=False)\n",
        "\n",
        "print(\"✅ Dataset generated and saved as 'marketing_touchpoints.csv'\")\n",
        "print(df.head(10))"
      ]
    },
    {
      "cell_type": "code",
      "source": [
        "from google.colab import files\n",
        "files.download('marketing_touchpoints.csv')\n"
      ],
      "metadata": {
        "colab": {
          "base_uri": "https://localhost:8080/",
          "height": 17
        },
        "id": "wX_o137sWR4c",
        "outputId": "98ab24d7-2a74-4985-83f9-e01c03185592"
      },
      "execution_count": 2,
      "outputs": [
        {
          "output_type": "display_data",
          "data": {
            "text/plain": [
              "<IPython.core.display.Javascript object>"
            ],
            "application/javascript": [
              "\n",
              "    async function download(id, filename, size) {\n",
              "      if (!google.colab.kernel.accessAllowed) {\n",
              "        return;\n",
              "      }\n",
              "      const div = document.createElement('div');\n",
              "      const label = document.createElement('label');\n",
              "      label.textContent = `Downloading \"${filename}\": `;\n",
              "      div.appendChild(label);\n",
              "      const progress = document.createElement('progress');\n",
              "      progress.max = size;\n",
              "      div.appendChild(progress);\n",
              "      document.body.appendChild(div);\n",
              "\n",
              "      const buffers = [];\n",
              "      let downloaded = 0;\n",
              "\n",
              "      const channel = await google.colab.kernel.comms.open(id);\n",
              "      // Send a message to notify the kernel that we're ready.\n",
              "      channel.send({})\n",
              "\n",
              "      for await (const message of channel.messages) {\n",
              "        // Send a message to notify the kernel that we're ready.\n",
              "        channel.send({})\n",
              "        if (message.buffers) {\n",
              "          for (const buffer of message.buffers) {\n",
              "            buffers.push(buffer);\n",
              "            downloaded += buffer.byteLength;\n",
              "            progress.value = downloaded;\n",
              "          }\n",
              "        }\n",
              "      }\n",
              "      const blob = new Blob(buffers, {type: 'application/binary'});\n",
              "      const a = document.createElement('a');\n",
              "      a.href = window.URL.createObjectURL(blob);\n",
              "      a.download = filename;\n",
              "      div.appendChild(a);\n",
              "      a.click();\n",
              "      div.remove();\n",
              "    }\n",
              "  "
            ]
          },
          "metadata": {}
        },
        {
          "output_type": "display_data",
          "data": {
            "text/plain": [
              "<IPython.core.display.Javascript object>"
            ],
            "application/javascript": [
              "download(\"download_42bad94d-07e8-4f81-afee-59578efc41d9\", \"marketing_touchpoints.csv\", 36331)"
            ]
          },
          "metadata": {}
        }
      ]
    }
  ]
}